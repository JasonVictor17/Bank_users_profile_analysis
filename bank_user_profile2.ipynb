{
 "cells": [
  {
   "cell_type": "code",
   "execution_count": 45,
   "metadata": {},
   "outputs": [],
   "source": [
    "# Import libraries necessary for this project\n",
    "import numpy as np\n",
    "import pandas as pd\n",
    "from time import time\n",
    "from IPython.display import display # Allows the use of display() for DataFrames\n",
    "# Import train_test_split\n",
    "from sklearn.model_selection import train_test_split\n",
    "%matplotlib inline\n"
   ]
  },
  {
   "cell_type": "code",
   "execution_count": 46,
   "metadata": {},
   "outputs": [],
   "source": [
    "data = pd.read_csv(\"processed_data1.csv\")\n",
    "target = data['target']"
   ]
  },
  {
   "cell_type": "code",
   "execution_count": 47,
   "metadata": {},
   "outputs": [],
   "source": [
    "data = data.drop('Unnamed: 0', axis = 1)"
   ]
  },
  {
   "cell_type": "code",
   "execution_count": 48,
   "metadata": {},
   "outputs": [],
   "source": [
    "features = data.drop('target', axis = 1)"
   ]
  },
  {
   "cell_type": "markdown",
   "metadata": {},
   "source": [
    "### 分训练集和测试集"
   ]
  },
  {
   "cell_type": "code",
   "execution_count": 49,
   "metadata": {
    "scrolled": true
   },
   "outputs": [
    {
     "name": "stdout",
     "output_type": "stream",
     "text": [
      "Training set has 32950 samples.\n",
      "Testing set has 8238 samples.\n"
     ]
    }
   ],
   "source": [
    "# Split the 'features' and 'income' data into training and testing sets\n",
    "X_train, X_test, y_train, y_test = train_test_split(features, \n",
    "                                                    target, \n",
    "                                                    test_size = 0.2, \n",
    "                                                    random_state = 0)\n",
    "\n",
    "# Show the results of the split\n",
    "print(\"Training set has {} samples.\".format(X_train.shape[0]))\n",
    "print(\"Testing set has {} samples.\".format(X_test.shape[0]))\n"
   ]
  },
  {
   "cell_type": "markdown",
   "metadata": {},
   "source": [
    "### 建立模型"
   ]
  },
  {
   "cell_type": "code",
   "execution_count": 50,
   "metadata": {},
   "outputs": [],
   "source": [
    "from sklearn.metrics import fbeta_score\n",
    "from sklearn.metrics import accuracy_score\n",
    "\n",
    "def train_predict(learner, sample_size, X_train, y_train, X_test, y_test): \n",
    "    '''\n",
    "    inputs:\n",
    "       - learner: the learning algorithm to be trained and predicted on\n",
    "       - sample_size: the size of samples (number) to be drawn from training set\n",
    "       - X_train: features training set\n",
    "       - y_train: income training set\n",
    "       - X_test: features testing set\n",
    "       - y_test: income testing set\n",
    "    '''\n",
    "    \n",
    "    results = {}\n",
    "    \n",
    "    # Fit the learner to the training data using slicing with 'sample_size' using .fit(training_features[:], training_labels[:])\n",
    "    start = time() # Get start time\n",
    "    learner = learner.fit(X_train[:sample_size:], y_train[:sample_size].values.ravel())\n",
    "    end = time() # Get end time\n",
    "    \n",
    "    # Calculate the training time\n",
    "    results['train_time'] = end - start\n",
    "        \n",
    "    # Get the predictions on the test set(X_test),\n",
    "    #       then get predictions on the first 300 training samples(X_train) using .predict()\n",
    "    start = time() # Get start time\n",
    "    predictions_test = learner.predict(X_test)\n",
    "    predictions_train = learner.predict(X_train[:300])\n",
    "    end = time() # Get end time\n",
    "    \n",
    "    # Calculate the total prediction time\n",
    "    results['pred_time'] = end - start\n",
    "            \n",
    "    # Compute accuracy on the first 300 training samples which is y_train[:300]\n",
    "    results['acc_train'] = accuracy_score(y_train[:300], predictions_train)\n",
    "        \n",
    "    # Compute accuracy on test set using accuracy_score()\n",
    "    results['acc_test'] = accuracy_score(y_test, predictions_test)\n",
    "    \n",
    "    # Compute F-score on the the first 300 training samples using fbeta_score()\n",
    "    results['f_train'] = fbeta_score(y_train[:300], predictions_train, beta = 0.5)\n",
    "        \n",
    "    # Compute F-score on the test set which is y_test\n",
    "    results['f_test'] = fbeta_score(y_test, predictions_test, beta = 0.5)\n",
    "       \n",
    "    # Success\n",
    "    print(\"{} trained on {} samples.\".format(learner.__class__.__name__, sample_size))\n",
    "        \n",
    "    # Return the results\n",
    "    return results"
   ]
  },
  {
   "cell_type": "markdown",
   "metadata": {},
   "source": [
    "### 训练模型\n"
   ]
  },
  {
   "cell_type": "code",
   "execution_count": 53,
   "metadata": {},
   "outputs": [
    {
     "name": "stdout",
     "output_type": "stream",
     "text": [
      "LogisticRegression trained on 329 samples.\n",
      "LogisticRegression trained on 3295 samples.\n",
      "LogisticRegression trained on 32950 samples.\n",
      "RandomForestClassifier trained on 329 samples.\n",
      "RandomForestClassifier trained on 3295 samples.\n",
      "RandomForestClassifier trained on 32950 samples.\n",
      "KNeighborsClassifier trained on 329 samples.\n",
      "KNeighborsClassifier trained on 3295 samples.\n",
      "KNeighborsClassifier trained on 32950 samples.\n"
     ]
    }
   ],
   "source": [
    "# Import the three supervised learning models from sklearn\n",
    "from sklearn.linear_model import LogisticRegression\n",
    "from sklearn.ensemble import RandomForestClassifier\n",
    "from sklearn.neighbors import KNeighborsClassifier \n",
    "import random\n",
    "random.seed(2020)\n",
    "# Initialize the three models\n",
    "clf_A = LogisticRegression(solver = 'liblinear') # set the default value manually in order to get rid of warnings\n",
    "clf_B = RandomForestClassifier(n_estimators = 100) # set the default value manually in order to get rid of warnings\n",
    "clf_C = KNeighborsClassifier() # set the default value manually in order to get rid of warnings\n",
    "\n",
    "# Calculate the number of samples for 1%, 10%, and 100% of the training data\n",
    "samples_100 = len(y_train)\n",
    "samples_10 = int(len(y_train)*0.1)\n",
    "samples_1 = int(len(y_train)*0.01)\n",
    "\n",
    "# Collect results on the learners\n",
    "results = {}\n",
    "for clf in [clf_A, clf_B, clf_C]:\n",
    "    clf_name = clf.__class__.__name__\n",
    "    results[clf_name] = {}\n",
    "    for i, samples in enumerate([samples_1, samples_10, samples_100]):\n",
    "        results[clf_name][i] = \\\n",
    "        train_predict(clf, samples, X_train, y_train, X_test, y_test)\n"
   ]
  },
  {
   "cell_type": "code",
   "execution_count": 54,
   "metadata": {},
   "outputs": [
    {
     "data": {
      "text/plain": [
       "{'LogisticRegression': {0: {'train_time': 0.0019948482513427734,\n",
       "   'pred_time': 0.004987239837646484,\n",
       "   'acc_train': 0.8866666666666667,\n",
       "   'acc_test': 0.8869871327992231,\n",
       "   'f_train': 0.6201550387596898,\n",
       "   'f_test': 0.39245863793766833},\n",
       "  1: {'train_time': 0.01795196533203125,\n",
       "   'pred_time': 0.003989219665527344,\n",
       "   'acc_train': 0.86,\n",
       "   'acc_test': 0.8990046127700898,\n",
       "   'f_train': 0.4744525547445255,\n",
       "   'f_test': 0.4798698657991053},\n",
       "  2: {'train_time': 0.3007650375366211,\n",
       "   'pred_time': 0.003989219665527344,\n",
       "   'acc_train': 0.8533333333333334,\n",
       "   'acc_test': 0.8980335032774945,\n",
       "   'f_train': 0.42635658914728686,\n",
       "   'f_test': 0.45267489711934156}},\n",
       " 'RandomForestClassifier': {0: {'train_time': 0.0638282299041748,\n",
       "   'pred_time': 0.0827479362487793,\n",
       "   'acc_train': 1.0,\n",
       "   'acc_test': 0.8874726875455208,\n",
       "   'f_train': 1.0,\n",
       "   'f_test': 0.35665914221218964},\n",
       "  1: {'train_time': 0.2373659610748291,\n",
       "   'pred_time': 0.10571742057800293,\n",
       "   'acc_train': 0.9966666666666667,\n",
       "   'acc_test': 0.8958485069191552,\n",
       "   'f_train': 0.9954751131221717,\n",
       "   'f_test': 0.4736275565123789},\n",
       "  2: {'train_time': 2.7166779041290283,\n",
       "   'pred_time': 0.16755199432373047,\n",
       "   'acc_train': 0.99,\n",
       "   'acc_test': 0.896091284292304,\n",
       "   'f_train': 0.9859154929577465,\n",
       "   'f_test': 0.47669868374244045}},\n",
       " 'KNeighborsClassifier': {0: {'train_time': 0.0019948482513427734,\n",
       "   'pred_time': 0.3361320495605469,\n",
       "   'acc_train': 0.8833333333333333,\n",
       "   'acc_test': 0.888443797038116,\n",
       "   'f_train': 0.5982905982905984,\n",
       "   'f_test': 0.3638017280582083},\n",
       "  1: {'train_time': 0.007975578308105469,\n",
       "   'pred_time': 1.4731249809265137,\n",
       "   'acc_train': 0.88,\n",
       "   'acc_test': 0.8903860160233066,\n",
       "   'f_train': 0.5813953488372093,\n",
       "   'f_test': 0.430752453653217},\n",
       "  2: {'train_time': 0.4777207374572754,\n",
       "   'pred_time': 6.75963830947876,\n",
       "   'acc_train': 0.8633333333333333,\n",
       "   'acc_test': 0.8956057295460063,\n",
       "   'f_train': 0.5202312138728323,\n",
       "   'f_test': 0.47895997263085877}}}"
      ]
     },
     "execution_count": 54,
     "metadata": {},
     "output_type": "execute_result"
    }
   ],
   "source": [
    "results"
   ]
  },
  {
   "cell_type": "markdown",
   "metadata": {},
   "source": [
    "最好的是KNN，在训练所有训练集后，准确率达到89.6%，但是$F_{0.5}$ score 只有0.48，意味着在预测非存款对象的准确度远高于预测存款对象的准确度，这不利于我们找出潜在的存款对象，我们继续利用网格搜索来优化我们的参数和模型。"
   ]
  },
  {
   "cell_type": "markdown",
   "metadata": {},
   "source": [
    "### 其他数据集"
   ]
  },
  {
   "cell_type": "code",
   "execution_count": 67,
   "metadata": {},
   "outputs": [],
   "source": [
    "i = ['2','3','4','5']\n",
    "accuracy_all = []\n",
    "f_all = []\n",
    "for each in i:\n",
    "    data = pd.read_csv(\"processed_data\"+ each +\".csv\")\n",
    "    target = data['target']\n",
    "    data = data.drop('Unnamed: 0', axis = 1)\n",
    "    features = data.drop('target', axis = 1)\n",
    "    X_train, X_test, y_train, y_test = train_test_split(features, \n",
    "                                                        target, \n",
    "                                                        test_size = 0.2, \n",
    "                                                        random_state = 0)\n",
    "\n",
    "    clf_C = KNeighborsClassifier()\n",
    "    learner = clf_C.fit(X_train, y_train.values.ravel())\n",
    "    predictions_test = learner.predict(X_test)\n",
    "    accuracy_all.append(accuracy_score(y_test, predictions_test))\n",
    "    f_all.append(fbeta_score(y_test, predictions_test, beta = 0.5))"
   ]
  },
  {
   "cell_type": "code",
   "execution_count": 70,
   "metadata": {},
   "outputs": [
    {
     "name": "stdout",
     "output_type": "stream",
     "text": [
      "[0.895241563486283, 0.8958485069191552, 0.8969410050983249, 0.8958485069191552]\n",
      "[0.4761904761904762, 0.481064483111566, 0.48780487804878053, 0.47987616099071206]\n"
     ]
    }
   ],
   "source": [
    "print(accuracy_all)\n",
    "print(f_all)"
   ]
  },
  {
   "cell_type": "markdown",
   "metadata": {},
   "source": [
    "准确性和$F_{0.5}$ score 在不同数据集差不多，说明cart来填补缺失值的方法有一致性。"
   ]
  },
  {
   "cell_type": "markdown",
   "metadata": {},
   "source": [
    "### 网格搜索"
   ]
  },
  {
   "cell_type": "code",
   "execution_count": 84,
   "metadata": {},
   "outputs": [
    {
     "name": "stdout",
     "output_type": "stream",
     "text": [
      "Unoptimized model\n",
      "------\n",
      "Accuracy score on testing data: 0.8958\n",
      "F-score on testing data: 0.4799\n",
      "\n",
      "Optimized Model\n",
      "------\n",
      "Final accuracy score on the testing data: 0.8989\n",
      "Final F-score on the testing data: 0.4920\n",
      "best params are: {'algorithm': 'brute', 'n_neighbors': 9, 'weights': 'uniform'}\n"
     ]
    }
   ],
   "source": [
    "from sklearn.model_selection import GridSearchCV\n",
    "from sklearn.metrics import make_scorer\n",
    "random.seed(42)\n",
    "# Initialize the classifier\n",
    "clf = KNeighborsClassifier()\n",
    "\n",
    "# Create the parameters list you wish to tune, using a dictionary if needed.\n",
    "k_range = list(range(1,10))\n",
    "parameters = { 'algorithm' : ['auto','ball_tree','kd_tree','brute'], 'weights' : ['uniform','distance'], 'n_neighbors' : k_range}\n",
    "\n",
    "# Make an fbeta_score scoring object using make_scorer()\n",
    "scorer = make_scorer(fbeta_score, beta = 0.5)\n",
    "\n",
    "# Perform grid search on the classifier using 'scorer' as the scoring method using GridSearchCV()\n",
    "grid_obj = GridSearchCV(clf, parameters, scoring=scorer, cv = 10)\n",
    "\n",
    "# Fit the grid search object to the training data and find the optimal parameters using fit()\n",
    "grid_fit = grid_obj.fit(X_train, y_train.values.ravel())\n",
    "\n",
    "# Get the estimator\n",
    "best_clf = grid_fit.best_estimator_\n",
    "\n",
    "# Make predictions using the unoptimized and model\n",
    "predictions = (clf.fit(X_train, y_train.values.ravel())).predict(X_test)\n",
    "best_predictions = best_clf.predict(X_test)\n",
    "\n",
    "# Report the before-and-afterscores\n",
    "print(\"Unoptimized model\\n------\")\n",
    "print(\"Accuracy score on testing data: {:.4f}\".format(accuracy_score(y_test, predictions)))\n",
    "print(\"F-score on testing data: {:.4f}\".format(fbeta_score(y_test, predictions, beta = 0.5)))\n",
    "print(\"\\nOptimized Model\\n------\")\n",
    "print(\"Final accuracy score on the testing data: {:.4f}\".format(accuracy_score(y_test, best_predictions)))\n",
    "print(\"Final F-score on the testing data: {:.4f}\".format(fbeta_score(y_test, best_predictions, beta = 0.5)))\n",
    "print('best params are:',str(grid_obj.best_params_))"
   ]
  },
  {
   "cell_type": "markdown",
   "metadata": {},
   "source": [
    "### Cutoff value"
   ]
  },
  {
   "cell_type": "code",
   "execution_count": 148,
   "metadata": {},
   "outputs": [],
   "source": [
    "data = pd.read_csv(\"processed_data5.csv\")\n",
    "target = data['target']\n",
    "data = data.drop('Unnamed: 0', axis = 1)\n",
    "features = data.drop('target', axis = 1)\n"
   ]
  },
  {
   "cell_type": "code",
   "execution_count": 149,
   "metadata": {},
   "outputs": [
    {
     "name": "stdout",
     "output_type": "stream",
     "text": [
      "0.8990046127700898\n",
      "0.4892086330935252\n"
     ]
    }
   ],
   "source": [
    "# accurate and f score in test set with cutoff = 0.5\n",
    "random.seed(42)\n",
    "\n",
    "X_train, X_test, y_train, y_test = train_test_split(features, \n",
    "                                                    target, \n",
    "                                                    test_size = 0.1, \n",
    "                                                    random_state = 0)\n",
    "X_train, X_val, y_train, y_val = train_test_split(X_train, y_train, test_size=0.1, random_state=0)\n",
    "\n",
    "clf_C = KNeighborsClassifier(algorithm = 'brute',n_neighbors = 9, weights = 'uniform')\n",
    "learner = clf_C.fit(X_train, y_train.values.ravel())\n",
    "predictions_test = learner.predict(X_test)\n",
    "print(accuracy_score(y_test, predictions_test))\n",
    "print(fbeta_score(y_test, predictions_test, beta = 0.5))"
   ]
  },
  {
   "cell_type": "code",
   "execution_count": 191,
   "metadata": {},
   "outputs": [
    {
     "data": {
      "text/plain": [
       "array([[3567,   98],\n",
       "       [ 318,  136]], dtype=int64)"
      ]
     },
     "execution_count": 191,
     "metadata": {},
     "output_type": "execute_result"
    }
   ],
   "source": [
    "from sklearn.metrics import confusion_matrix\n",
    "from sklearn.metrics import precision_score\n",
    "from sklearn.metrics import recall_score\n",
    "confusion_matrix(y_test, predictions_test) # 默认cutoff为p = 0.5"
   ]
  },
  {
   "cell_type": "code",
   "execution_count": 192,
   "metadata": {},
   "outputs": [
    {
     "data": {
      "text/plain": [
       "array([[3377,  288],\n",
       "       [ 230,  224]], dtype=int64)"
      ]
     },
     "execution_count": 192,
     "metadata": {},
     "output_type": "execute_result"
    }
   ],
   "source": [
    "predictions_test_p = learner.predict_proba(X_test)\n",
    "predictions_test_p=pd.DataFrame(predictions_test_p)[1]\n",
    "# 我们看到选取0.3 cutoff 真的1的预测数明显上升\n",
    "predictions_test_pfinal = predictions_test_p>=0.3\n",
    "predictions_test_pfinal=predictions_test_pfinal.astype(int)\n",
    "confusion_matrix(y_test, predictions_test_pfinal)"
   ]
  },
  {
   "cell_type": "code",
   "execution_count": 221,
   "metadata": {},
   "outputs": [],
   "source": [
    "# 找到最佳cutoff\n",
    "i = [0.1,0.2,0.3,0.4,0.5,0.6,0.7,0.8,0.9,1]\n",
    "accuracy_s = []\n",
    "f_s = []\n",
    "precision_s = []\n",
    "recall_s=[]\n",
    "for each in i:\n",
    "    predictions_test_pfinal = predictions_test_p>=each\n",
    "    predictions_test_pfinal=predictions_test_pfinal.astype(int)\n",
    "    f_s.append(fbeta_score(y_test, predictions_test_pfinal, beta = 1))\n",
    "    accuracy_s.append(accuracy_score(y_test, predictions_test_pfinal))\n",
    "    precision_s.append(precision_score(y_test, predictions_test_pfinal))\n",
    "    recall_s.append(recall_score(y_test, predictions_test_pfinal))"
   ]
  },
  {
   "cell_type": "code",
   "execution_count": 222,
   "metadata": {},
   "outputs": [
    {
     "data": {
      "image/png": "[encoded data removed]",
      "text/plain": [
       "<Figure size 432x288 with 1 Axes>"
      ]
     },
     "metadata": {
      "needs_background": "light"
     },
     "output_type": "display_data"
    }
   ],
   "source": [
    "import matplotlib.pyplot as plt\n",
    "plt.plot(i,precision_s, color='green', label='precision')\n",
    "plt.plot(i,recall_s, color='red', label='recall')\n",
    "plt.plot(i,accuracy_s, color='blue', label='accuracy')\n",
    "plt.plot(i,f_s,color='black',label='F1 score')\n",
    "plt.legend()\n",
    "plt.xlabel('cutoff value')\n",
    "plt.ylabel('rate')\n",
    "plt.show()"
   ]
  },
  {
   "cell_type": "markdown",
   "metadata": {},
   "source": [
    "根据图表我们可以看出在 cutoff value大致在0.33左右我们大致得到一个比较均衡的预测结果，如果我们要提高precision，也就是保证精准的找到愿意存款的人，那么我们可以选择较高的cutoff value来保持精准定位，但同时也会放弃更多的潜在的客户（节约成本），如果我们要提高recall，也就是希望覆盖更多的潜在客户，那么就要选择较低的cutoff value，这样成本会上升。"
   ]
  },
  {
   "cell_type": "markdown",
   "metadata": {},
   "source": [
    "最后我们在验证集中验证我们的结论，我们先选择p=0.18"
   ]
  },
  {
   "cell_type": "code",
   "execution_count": 227,
   "metadata": {},
   "outputs": [
    {
     "name": "stdout",
     "output_type": "stream",
     "text": [
      "[[2724  542]\n",
      " [ 173  268]]\n",
      "0.6077097505668935\n",
      "0.3308641975308642\n"
     ]
    }
   ],
   "source": [
    "# validation set\n",
    "\n",
    "predictions_val_p = learner.predict_proba(X_val)\n",
    "predictions_val_p=pd.DataFrame(predictions_val_p)[1]\n",
    "predictions_val_pfinal = predictions_val_p>=0.18\n",
    "predictions_val_pfinal=predictions_val_pfinal.astype(int)\n",
    "print(confusion_matrix(y_val, predictions_val_pfinal))\n",
    "print(recall_score(y_val, predictions_val_pfinal))\n",
    "print(precision_score(y_val, predictions_val_pfinal))"
   ]
  },
  {
   "cell_type": "markdown",
   "metadata": {},
   "source": [
    "可以发现在总共441位潜在客户里我们预测到了268位，达到了60.7%。但是我们预测的810位顾客里只有268位是正确的，精准度为33%。当然不使用模型的精准度为11.9%。"
   ]
  },
  {
   "cell_type": "code",
   "execution_count": 228,
   "metadata": {},
   "outputs": [
    {
     "name": "stdout",
     "output_type": "stream",
     "text": [
      "[[3257    9]\n",
      " [ 419   22]]\n",
      "0.049886621315192746\n",
      "0.7096774193548387\n"
     ]
    }
   ],
   "source": [
    "# validation set\n",
    "predictions_val_p = learner.predict_proba(X_val)\n",
    "predictions_val_p=pd.DataFrame(predictions_val_p)[1]\n",
    "predictions_val_pfinal = predictions_val_p>=0.8\n",
    "predictions_val_pfinal=predictions_val_pfinal.astype(int)\n",
    "print(confusion_matrix(y_val, predictions_val_pfinal))\n",
    "print(recall_score(y_val, predictions_val_pfinal))\n",
    "print(precision_score(y_val, predictions_val_pfinal))"
   ]
  },
  {
   "cell_type": "markdown",
   "metadata": {},
   "source": [
    "可以发现调高cutoff value后，我们的预测变得更加谨慎，在预测的31位潜在客户里有22位是真的潜在客户，达到了71%的正确率。但是覆盖面不够广，损失了大多数的潜在客户。"
   ]
  },
  {
   "cell_type": "markdown",
   "metadata": {},
   "source": [
    "### Feature Selection"
   ]
  },
  {
   "cell_type": "code",
   "execution_count": 85,
   "metadata": {},
   "outputs": [
    {
     "name": "stderr",
     "output_type": "stream",
     "text": [
      "C:\\Users\\jasonguo\\Anaconda3\\lib\\site-packages\\sklearn\\model_selection\\_split.py:1978: FutureWarning: The default value of cv will change from 3 to 5 in version 0.22. Specify it explicitly to silence this warning.\n",
      "  warnings.warn(CV_WARNING, FutureWarning)\n"
     ]
    }
   ],
   "source": [
    "# Import a supervised learning model that has 'feature_importances_'\n",
    "from sklearn.model_selection import RandomizedSearchCV\n",
    "\n",
    "# Train the supervised model on the training set using .fit(X_train, y_train)\n",
    "param_dist = {\"max_depth\": [3, None],\n",
    "              \"n_estimators\": list(range(10, 200)),\n",
    "              \"max_features\": list(range(1, X_test.shape[1]+1)),\n",
    "              \"min_samples_split\": list(range(2, 11)),\n",
    "              \"min_samples_leaf\": list(range(1, 11)),\n",
    "              \"bootstrap\": [True, False],\n",
    "              \"criterion\": [\"gini\", \"entropy\"]}\n",
    "model = RandomizedSearchCV(clf_B, param_distributions=param_dist)\n",
    "model.fit(X_train, y_train.values.ravel())\n",
    "# TODO: Extract the feature importances using .feature_importances_ \n",
    "importances = model.best_estimator_.feature_importances_\n",
    "\n",
    "\n"
   ]
  },
  {
   "cell_type": "code",
   "execution_count": 86,
   "metadata": {},
   "outputs": [],
   "source": [
    "# Plot\n",
    "import matplotlib.pyplot as pl\n",
    "def feature_plot(importances, X_train, y_train):\n",
    "    \n",
    "    # Display the five most important features\n",
    "    indices = np.argsort(importances)[::-1]\n",
    "    columns = X_train.columns.values[indices[:5]]\n",
    "    values = importances[indices][:5]\n",
    "\n",
    "    # Creat the plot\n",
    "    fig = pl.figure(figsize = (9,5))\n",
    "    pl.title(\"Normalized Weights for First Five Most Predictive Features\", fontsize = 16)\n",
    "    pl.bar(np.arange(5), values, width = 0.6, align=\"center\", color = '#00A000', \\\n",
    "          label = \"Feature Weight\")\n",
    "    pl.bar(np.arange(5) - 0.3, np.cumsum(values), width = 0.2, align = \"center\", color = '#00A0A0', \\\n",
    "          label = \"Cumulative Feature Weight\")\n",
    "    pl.xticks(np.arange(5), columns)\n",
    "    pl.xlim((-0.5, 4.5))\n",
    "    pl.ylabel(\"Weight\", fontsize = 12)\n",
    "    pl.xlabel(\"Feature\", fontsize = 12)\n",
    "    \n",
    "    pl.legend(loc = 'upper center')\n",
    "    pl.tight_layout()\n",
    "    pl.show()  \n"
   ]
  },
  {
   "cell_type": "code",
   "execution_count": 87,
   "metadata": {},
   "outputs": [
    {
     "data": {
      "image/png": "[encoded data removed]",
      "text/plain": [
       "<Figure size 648x360 with 1 Axes>"
      ]
     },
     "metadata": {
      "needs_background": "light"
     },
     "output_type": "display_data"
    }
   ],
   "source": [
    "feature_plot(importances, X_train, y_train)"
   ]
  },
  {
   "cell_type": "markdown",
   "metadata": {},
   "source": [
    "可以看到前五个重要的指标，第一个是雇佣员工数，第二个是欧洲银行间利率，第三个是年龄，第四个和第五个都是受访相关参数。私以为，机器学习和计量经济学的方法不同之处在于机器学习更加注重预测结果的准确性，而忽视了预测结果和参数直接的因果关系，这些因果关系是很难通过机器学习的一些方法被解释的，即使预测结果非常准确，但是一些参数可能和预测目标没有实际的相关性。接下来就使用计量经济学的方法来研究哪些因素可能导致用户存款。"
   ]
  },
  {
   "cell_type": "code",
   "execution_count": 88,
   "metadata": {},
   "outputs": [
    {
     "name": "stdout",
     "output_type": "stream",
     "text": [
      "Final Model trained on full data\n",
      "------\n",
      "Accuracy on testing data: 0.8989\n",
      "F-score on testing data: 0.4920\n",
      "\n",
      "Final Model trained on reduced data\n",
      "------\n",
      "Accuracy on testing data: 0.8934\n",
      "F-score on testing data: 0.4420\n"
     ]
    }
   ],
   "source": [
    "from sklearn.base import clone\n",
    "\n",
    "# Reduce the feature space\n",
    "X_train_reduced = X_train[X_train.columns.values[(np.argsort(importances)[::-1])[:5]]]\n",
    "X_test_reduced = X_test[X_test.columns.values[(np.argsort(importances)[::-1])[:5]]]\n",
    "\n",
    "# Train on the \"best\" model found from grid search earlier\n",
    "clf = (clone(best_clf)).fit(X_train_reduced, y_train)\n",
    "\n",
    "# Make new predictions\n",
    "reduced_predictions = clf.predict(X_test_reduced)\n",
    "\n",
    "# Report scores from the final model using both versions of data\n",
    "print(\"Final Model trained on full data\\n------\")\n",
    "print(\"Accuracy on testing data: {:.4f}\".format(accuracy_score(y_test, best_predictions)))\n",
    "print(\"F-score on testing data: {:.4f}\".format(fbeta_score(y_test, best_predictions, beta = 0.5)))\n",
    "print(\"\\nFinal Model trained on reduced data\\n------\")\n",
    "print(\"Accuracy on testing data: {:.4f}\".format(accuracy_score(y_test, reduced_predictions)))\n",
    "print(\"F-score on testing data: {:.4f}\".format(fbeta_score(y_test, reduced_predictions, beta = 0.5)))"
   ]
  },
  {
   "cell_type": "markdown",
   "metadata": {},
   "source": [
    "可以发现只取排名前五个参数的模型，F score 下降了一些， 意味着预测有存款意向的人的准确度变低了一些，但不是很多。"
   ]
  },
  {
   "cell_type": "code",
   "execution_count": null,
   "metadata": {},
   "outputs": [],
   "source": []
  }
 ],
 "metadata": {
  "kernelspec": {
   "display_name": "Python 3",
   "language": "python",
   "name": "python3"
  },
  "language_info": {
   "codemirror_mode": {
    "name": "ipython",
    "version": 3
   },
   "file_extension": ".py",
   "mimetype": "text/x-python",
   "name": "python",
   "nbconvert_exporter": "python",
   "pygments_lexer": "ipython3",
   "version": "3.7.4"
  }
 },
 "nbformat": 4,
 "nbformat_minor": 2
}
